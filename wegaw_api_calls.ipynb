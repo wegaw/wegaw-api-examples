{
 "cells": [
  {
   "cell_type": "markdown",
   "metadata": {},
   "source": [
    "# Wegaw API Calls\n",
    "\n",
    "This notebook contains examples to call the Wegaw API. To run it, you need to provide the credentials (`YOUR USERNAME` and `YOUR PASSWORD`) in the following cell. Once the credentials are provided, you can run the other cells with the default configuration.\n",
    "\n",
    "Throughout this notebook, there are variables in capital letters - these are variables that you can customize for your needs.\n",
    "\n",
    "The most up-to-date documentation, with examples on the API use in different programming languages (Python, JavaScript and cURL), can be found at https://api.staging.defrost.io/."
   ]
  },
  {
   "cell_type": "code",
   "execution_count": null,
   "metadata": {},
   "outputs": [],
   "source": [
    "## Installation Instructions\n",
    "\n",
    "# To ensure the necessary libraries are installed, run the following cell:\n",
    "\n",
    "%pip install requests\n",
    "%pip install pandas"
   ]
  },
  {
   "cell_type": "code",
   "execution_count": null,
   "metadata": {},
   "outputs": [],
   "source": [
    "base_url = 'https://api.staging.defrost.io'"
   ]
  },
  {
   "cell_type": "code",
   "execution_count": null,
   "metadata": {},
   "outputs": [],
   "source": [
    "# Enter the username and password provided by Wegaw here\n",
    "\n",
    "USERNAME = '<USERNAME>'\n",
    "PASSWORD = '<PASSWORD>'"
   ]
  },
  {
   "cell_type": "markdown",
   "metadata": {},
   "source": [
    "## Get Token Access\n",
    "\n",
    "Token access is required to identify the user in the API calls. The token expires within 5 minutes of creation, and if an out-of-date token is used, a `401 error` will be returned. Therefore, the following cell must be rerun to obtain a new token when needed."
   ]
  },
  {
   "cell_type": "code",
   "execution_count": null,
   "metadata": {},
   "outputs": [],
   "source": [
    "import requests\n",
    "\n",
    "url = f'{base_url}/v2/token/'\n",
    "payload = {'username':USERNAME,'password':PASSWORD}\n",
    "r = requests.post(url, json=payload, timeout=300)\n",
    "\n",
    "if r.status_code == 200:\n",
    "     data = r.json()\n",
    "     TOKEN = data['access']\n",
    "else:\n",
    "    print(f'Failed with status code: {r.status_code}')"
   ]
  },
  {
   "cell_type": "markdown",
   "metadata": {},
   "source": [
    "## Check Available Catchments\n",
    "\n",
    "Here you can check for which catchments you can access data. The following example returns a GeoJSON for each available catchment."
   ]
  },
  {
   "cell_type": "code",
   "execution_count": null,
   "metadata": {},
   "outputs": [],
   "source": [
    "import requests\n",
    "\n",
    "url = f'{base_url}/v2/catchments/'\n",
    "headers = {'Authorization': 'Bearer ' + TOKEN}\n",
    "r = requests.get(url, headers=headers, timeout=300)\n",
    "\n",
    "if r.status_code == 200:\n",
    "     data = r.json()\n",
    "     CATCHMENT = data['features'][0]['properties']['name'] if len(data['features']) > 0 else print('No catchment available') # selecting, by default, the first catchment available\n",
    "     for catchment in data['features']:\n",
    "          print(f\"Catchment: {catchment['properties']['display_name']} -> API catchemnt name: {catchment['properties']['name']}\")\n",
    "elif r.status_code == 401:\n",
    "     print(f\"Error {r.status_code}. It's possible that the access token has expired.\")\n",
    "else:\n",
    "    print(f'Failed with status code: {r.status_code}')"
   ]
  },
  {
   "cell_type": "markdown",
   "metadata": {},
   "source": [
    "## Access Products\n",
    "\n",
    "This section shows how to retrieve product information from the API. First we will look at retrieving individual values, then rasters. You can define the product and the catchment (by default, it is set to the first catchment available in the previous cell call). The possible products are:\n",
    "- 'swe' : Snow Water Equivalent\n",
    "- 'sce' : Snow Cover Extent\n",
    "- 'hs' : Snow Height\n",
    "- 'swc' : Soil Water Content\n",
    "- 'ms' : Melting Snow"
   ]
  },
  {
   "cell_type": "code",
   "execution_count": null,
   "metadata": {},
   "outputs": [],
   "source": [
    "PRODUCT = 'swe' #'sce' 'hs' 'swc' 'ms' # name of the product in lowercase \n",
    "# CATCHMENT = '<CATCHMENT>' # here you can select a different catchment. To use this line of code, remove the # at the start."
   ]
  },
  {
   "cell_type": "markdown",
   "metadata": {},
   "source": [
    "### Individual Values\n",
    "\n",
    "This section shows how to retrieve values for the selected product in the selected catchment. Values are returned in the format {value, date format}. \n",
    "\n",
    "Example ``{'value': 6.96, 'date': '2024-05-01'}``."
   ]
  },
  {
   "cell_type": "markdown",
   "metadata": {},
   "source": [
    "#### Show Last Value Available\n",
    "\n",
    "Using the *latest* endpoint, the last available for the specified catchment/product is returned with its date."
   ]
  },
  {
   "cell_type": "code",
   "execution_count": null,
   "metadata": {},
   "outputs": [],
   "source": [
    "import requests\n",
    "import pandas as pd\n",
    "\n",
    "url = f'{base_url}/v2/catchments/{CATCHMENT}/{PRODUCT}-stats/latest/'\n",
    "headers = {'Authorization': 'Bearer ' + TOKEN}\n",
    "r = requests.get(url, headers=headers, timeout=300)\n",
    "\n",
    "if r.status_code == 200:\n",
    "  data = r.json()\n",
    "  df = pd.DataFrame(data, index=[0])\n",
    "  print(df)\n",
    "elif r.status_code == 204:\n",
    "  print(f'No data available for catchment {CATCHMENT} and product {PRODUCT}')\n",
    "elif r.status_code == 401:\n",
    "     print(f\"Error {r.status_code}. It's possible that the access token has expired.\")\n",
    "else:\n",
    "    print(f'Failed with status code: {r.status_code}')"
   ]
  },
  {
   "cell_type": "markdown",
   "metadata": {},
   "source": [
    "#### Show Available Values for a Certain Period of Time\n",
    "\n",
    "This cell shows all available values for a certain period of time. By default, the last 30 days of values will be returned by the call, but the dates can be modified by specifing the ```FROM_DATE``` and ```TO_DATE``` parameters."
   ]
  },
  {
   "cell_type": "code",
   "execution_count": null,
   "metadata": {},
   "outputs": [],
   "source": [
    "import requests\n",
    "import pandas as pd\n",
    "\n",
    "url = f'{base_url}/v2/catchments/{CATCHMENT}/{PRODUCT}-stats/'\n",
    "\n",
    "# In case other dates are needed, remove the # at the start of each line of code.\n",
    "\n",
    "# FROM_DATE = '2022-01-01'\n",
    "# TO_DATE = '2022-01-07'\n",
    "# url = f'{base_url}/v2/catchments/{CATCHMENT}/{PRODUCT}-stats/?from={FROM_DATE}&to={TO_DATE}'\n",
    "\n",
    "headers = {'Authorization': 'Bearer ' + TOKEN}\n",
    "r = requests.get(url, headers=headers, timeout=300)\n",
    "if r.status_code == 200:\n",
    "  data = r.json()\n",
    "  df = pd.DataFrame(data)\n",
    "  print(df.tail())\n",
    "elif r.status_code == 401:\n",
    "     print(f\"Error {r.status_code}. It's possible that the access token has expired.\")\n",
    "else:\n",
    "  print(f'Failed with status code: {r.status_code}')"
   ]
  },
  {
   "cell_type": "markdown",
   "metadata": {},
   "source": [
    "#### Show Available Values in mm (this only affects the swe and hs products)\n",
    "\n",
    "By using the *units* parameter in the URL, the swe or hs values can be retrieved in millimeters (mm). By default, the values for swe and hs are provided in centimeters (cm)."
   ]
  },
  {
   "cell_type": "code",
   "execution_count": null,
   "metadata": {},
   "outputs": [],
   "source": [
    "import requests\n",
    "import pandas as pd\n",
    "\n",
    "url = f'{base_url}/v2/catchments/{CATCHMENT}/{PRODUCT}-stats/latest?units=mm'\n",
    "headers = {'Authorization': 'Bearer ' + TOKEN}\n",
    "r = requests.get(url, headers=headers, timeout=300)\n",
    "\n",
    "if r.status_code == 200:\n",
    "  data = r.json()\n",
    "  df = pd.DataFrame(data, index=[0])\n",
    "  print(df)\n",
    "elif r.status_code == 204:\n",
    "  print(f'No data available for catchment {CATCHMENT} and product {PRODUCT}')\n",
    "elif r.status_code == 401:\n",
    "     print(f\"Error {r.status_code}. It's possible that the access token has expired.\")                      \n",
    "else:\n",
    "    print(f'Failed with status code: {r.status_code}')"
   ]
  },
  {
   "cell_type": "code",
   "execution_count": null,
   "metadata": {},
   "outputs": [],
   "source": [
    "import requests\n",
    "import pandas as pd\n",
    "\n",
    "url = f'{base_url}/v2/catchments/{CATCHMENT}/{PRODUCT}-stats?units=mm'\n",
    "\n",
    "# In case other dates are needed, remove the # at the start of each line of code.\n",
    "\n",
    "# FROM_DATE = '2022-01-01'\n",
    "# TO_DATE = '2022-01-07'\n",
    "# url = f'{base_url}/v2/catchments/{CATCHMENT}/{PRODUCT}-stats/?from={FROM_DATE}&to={TO_DATE}'\n",
    "\n",
    "headers = {'Authorization': 'Bearer ' + TOKEN}\n",
    "r = requests.get(url, headers=headers, timeout=300)\n",
    "if r.status_code == 200:\n",
    "  data = r.json()\n",
    "  df = pd.DataFrame(data)\n",
    "  print(df.tail())\n",
    "elif r.status_code == 401:\n",
    "     print(f\"Error {r.status_code}. It's possible that the access token has expired.\")\n",
    "else:\n",
    "  print(f'Failed with status code: {r.status_code}')"
   ]
  },
  {
   "cell_type": "markdown",
   "metadata": {},
   "source": [
    "### Rasters\n",
    "\n",
    "This section shows how to retrieve information about the availability of rasters for each catchment and product, and how to download available raster files."
   ]
  },
  {
   "cell_type": "markdown",
   "metadata": {},
   "source": [
    "#### Show All Avaialble Rasters for a Certain Period of Time\n",
    "\n",
    "This cell shows the available rasters  for a certain period of time. By default, the last 30 days of values will be returned by the call, but the dates can be modified by specifing the ```FROM_DATE``` and ```TO_DATE``` parameters."
   ]
  },
  {
   "cell_type": "code",
   "execution_count": null,
   "metadata": {},
   "outputs": [],
   "source": [
    "import requests\n",
    "import pandas as pd\n",
    "\n",
    "url = f'{base_url}/v2/catchments/{CATCHMENT}/{PRODUCT}-rasters/'\n",
    "\n",
    "# In case other dates are needed, remove the # at the start of each line of code.\n",
    "\n",
    "# FROM_DATE = '2022-01-01'\n",
    "# TO_DATE = '2022-01-07'\n",
    "\n",
    "# url = f'{base_url}/v2/catchments/{CATCHMENT}/{PRODUCT}-rasters/?from={FROM_DATE}&to={TO_DATE}'\n",
    "\n",
    "headers = {'Authorization': 'Bearer ' + TOKEN}\n",
    "r = requests.get(url, headers=headers, timeout=300)\n",
    "if r.status_code == 200:\n",
    "  data = r.json()\n",
    "  FILENAME =  data['snowmaps'][-1]['file_name'] if len(data['snowmaps']) > 0 else ''# Taking the last filename by default\n",
    "  df = pd.DataFrame(data['snowmaps'])\n",
    "  print(df.tail())\n",
    "else:\n",
    "  print(f'Failed with status code: {r.status_code}')"
   ]
  },
  {
   "cell_type": "markdown",
   "metadata": {},
   "source": [
    "#### Download Rasters\n",
    "\n",
    "By default, the file downloaded will be the first of the filenames returned in the cell above. You can change this by modifying the ``FILENAME`` parameter. By default, the downloaded file will be saved with the same filename, in the current working directory. You can change this by modifying the ``OUTPUT`` parameter. "
   ]
  },
  {
   "cell_type": "code",
   "execution_count": null,
   "metadata": {},
   "outputs": [],
   "source": [
    "import urllib.request\n",
    "\n",
    "# FILENAME = '<FILENAME>' # Modify this if you want to download a file other than the first one from the filenames returned in the cell above. Remove the # at the start to run the line of code.\n",
    "OUTPUT = FILENAME # Modify this if you want to specify a different filename/directory than the original filename, e.g. 'mycatchment_swe_2024_04_02.tif'\n",
    "\n",
    "url = f'{base_url}/v2/catchments/{CATCHMENT}/{PRODUCT}-rasters/{FILENAME}'  # file_name from the API call\n",
    "opener = urllib.request.build_opener()\n",
    "opener.addheaders = [('Authorization', 'Bearer ' + TOKEN)]\n",
    "urllib.request.install_opener(opener)\n",
    "try:\n",
    "    response = urllib.request.urlopen(url)\n",
    "    if response.getcode() == 200:\n",
    "        urllib.request.urlretrieve(url, OUTPUT)\n",
    "        print(f'File downloaded successfully to {OUTPUT}.')\n",
    "except Exception as e:\n",
    "    print(f'Failed to download the file. Response code: {e}')"
   ]
  }
 ],
 "metadata": {
  "kernelspec": {
   "display_name": "Python 3",
   "language": "python",
   "name": "python3"
  },
  "language_info": {
   "codemirror_mode": {
    "name": "ipython",
    "version": 3
   },
   "file_extension": ".py",
   "mimetype": "text/x-python",
   "name": "python",
   "nbconvert_exporter": "python",
   "pygments_lexer": "ipython3",
   "version": "3.8.10"
  }
 },
 "nbformat": 4,
 "nbformat_minor": 2
}
